{
 "cells": [
  {
   "cell_type": "code",
   "execution_count": 2,
   "metadata": {},
   "outputs": [
    {
     "name": "stdout",
     "output_type": "stream",
     "text": [
      "       Team            Full Name  Overall Rating Position  Age  Speed  \\\n",
      "0      Rams         Aaron Donald              99       RE   29     82   \n",
      "1  Patriots      Stephon Gilmore              99       CB   29     92   \n",
      "2  Panthers  Christian McCaffrey              99       HB   24     92   \n",
      "3    Chiefs      Patrick Mahomes              99       QB   24     81   \n",
      "4    Saints       Michael Thomas              99       WR   27     89   \n",
      "\n",
      "   Acceleration  Awareness  Agility  Strength  ...  Jersey Number  \\\n",
      "0            90         99       86        99  ...             99   \n",
      "1            94         99       94        70  ...             24   \n",
      "2            93         97       97        72  ...             22   \n",
      "3            87         97       88        69  ...             15   \n",
      "4            92         99       92        77  ...             13   \n",
      "\n",
      "       Total Salary     Signing Bonus          Archetype  \\\n",
      "0   $101,892,000.00    $40,000,000.00     DE_PowerRusher   \n",
      "1    $33,550,000.00    $31,450,000.00        CB_MantoMan   \n",
      "2    $45,840,000.00    $32,190,000.00   HB_ReceivingBack   \n",
      "3     $6,840,000.00    $34,420,000.00      QB_Improviser   \n",
      "4    $62,750,000.00    $35,130,000.00     WR_RouteRunner   \n",
      "\n",
      "          Running Style  Years Pro  Height  Weight  Birthdate         College  \n",
      "0  Default Stride Loose          6      73     280  5/23/1991      Pittsburgh  \n",
      "1               Default          8      73     202  9/19/1990  South Carolina  \n",
      "2  Short Stride Default          3      71     205   6/7/1996        Stanford  \n",
      "3               Default          3      75     230  9/17/1995      Texas Tech  \n",
      "4               Default          4      75     212   3/3/1993      Ohio State  \n",
      "\n",
      "[5 rows x 69 columns]\n",
      "(2293, 69)\n",
      "Index(['Team', 'Full Name', 'Overall Rating', 'Position', 'Age', 'Speed',\n",
      "       'Acceleration', 'Awareness', 'Agility', 'Strength', 'Throw Power',\n",
      "       'Throw On The Run', 'Throw Under Pressure', 'Throw Accuracy Short',\n",
      "       'Throw Accuracy Mid', 'Throw Accuracy Deep', 'Release',\n",
      "       'Ball Carrier Vision', 'Stamina', 'Carrying', 'Play Action', 'Pursuit',\n",
      "       'Play Recognition', 'Short Route Running', 'Medium Route Running',\n",
      "       'Deep Route Running', 'Catch In Traffic', 'Catching', 'Spin Move',\n",
      "       'Finesse Moves', 'Spectacular Catch', 'Jumping', 'Tackle',\n",
      "       'Zone Coverage', 'Man Coverage', 'Trucking', 'Juke Move', 'Break Sack',\n",
      "       'Toughness', 'Stiff Arm', 'Power Moves', 'Lead Blocking',\n",
      "       'Run Block Power', 'Run Blocking', 'Hit Power', 'Pass Block Finesse',\n",
      "       'Pass Block Power', 'Pass Blocking', 'Impact Blocking', 'Kick Return',\n",
      "       'Kick Accuracy', 'Break Tackle', 'Kick Power', 'Change Of Direction',\n",
      "       'Press', 'Block Shedding', 'Run Block Finesse', 'Injury',\n",
      "       'Player Handedness', 'Jersey Number', ' Total Salary ',\n",
      "       ' Signing Bonus ', 'Archetype', 'Running Style', 'Years Pro', 'Height',\n",
      "       'Weight', 'Birthdate', 'College'],\n",
      "      dtype='object')\n"
     ]
    }
   ],
   "source": [
    "import numpy as np\n",
    "import pandas as pd\n",
    "import Project_Functions as pf\n",
    "\n",
    "data = pf.load_data()\n",
    "\n",
    "pf.basics(data)\n"
   ]
  },
  {
   "cell_type": "code",
   "execution_count": null,
   "metadata": {},
   "outputs": [],
   "source": []
  },
  {
   "cell_type": "code",
   "execution_count": null,
   "metadata": {},
   "outputs": [],
   "source": []
  }
 ],
 "metadata": {
  "kernelspec": {
   "display_name": "Python 3",
   "language": "python",
   "name": "python3"
  },
  "language_info": {
   "codemirror_mode": {
    "name": "ipython",
    "version": 3
   },
   "file_extension": ".py",
   "mimetype": "text/x-python",
   "name": "python",
   "nbconvert_exporter": "python",
   "pygments_lexer": "ipython3",
   "version": "3.8.3"
  }
 },
 "nbformat": 4,
 "nbformat_minor": 4
}

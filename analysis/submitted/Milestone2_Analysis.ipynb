{
 "cells": [
  {
   "cell_type": "code",
   "execution_count": 45,
   "metadata": {},
   "outputs": [],
   "source": [
    "import numpy as np\n",
    "import pandas as pd\n",
    "import seaborn as sns\n",
    "import matplotlib.pyplot as plt\n",
    "import sys\n",
    "sys.path.append('/users/jeranknorr/documents/course_project_group_6019/analysis') \n",
    "import Project_Functions as pf\n",
    "import scripts as sc\n",
    "df = pf.load_and_process()\n"
   ]
  },
  {
   "cell_type": "markdown",
   "metadata": {},
   "source": [
    "### Research Question #1 ###\n",
    "---\n",
    "## Which Team Has the Best Offence? ##\n",
    "To Answer this question we used the data from the top player from each offensive position (Quaterback,Wide Reciever, Tight End and Half Back) we excluded that data from full backs as not every NFL carries one on thier roster as well as Half Backs tend to recieve more touches on running plays. offenseive line was also excluded as in fantasy football they do not track the stats for these players. Futhermore, Quaterbacks were given double the weight compared to other positions as the Quaterback is involved in pretty much every play. "
   ]
  },
  {
   "cell_type": "code",
   "execution_count": 46,
   "metadata": {},
   "outputs": [],
   "source": [
    "\n",
    " #Max value for Each quater back\n",
    "\n",
    "dfQB = sc.QuarterBack_Score(df)"
   ]
  },
  {
   "cell_type": "code",
   "execution_count": 47,
   "metadata": {},
   "outputs": [],
   "source": [
    " #Max value for Each Tight end\n",
    "    \n",
    "dfTE = pf.TightEnd_Score(df)\n"
   ]
  },
  {
   "cell_type": "code",
   "execution_count": 48,
   "metadata": {},
   "outputs": [],
   "source": [
    " #Max value for Each Wide Reciever\n",
    "    \n",
    "dfWR = pf.WideReceiver_Score(df)\n",
    "\n"
   ]
  },
  {
   "cell_type": "code",
   "execution_count": 49,
   "metadata": {},
   "outputs": [],
   "source": [
    " #Max value for Each Full Back\n",
    "\n",
    "dfFB = pf.FullBack_Score(df)\n"
   ]
  },
  {
   "cell_type": "code",
   "execution_count": 50,
   "metadata": {},
   "outputs": [],
   "source": [
    " #Max value for Each Half Back\n",
    "\n",
    "dfHB = pf.HalfBack_Score(df)\n"
   ]
  },
  {
   "cell_type": "code",
   "execution_count": 51,
   "metadata": {},
   "outputs": [
    {
     "data": {
      "image/png": "[encoded data removed]",
      "text/plain": [
       "<Figure size 432x288 with 1 Axes>"
      ]
     },
     "metadata": {
      "needs_background": "light"
     },
     "output_type": "display_data"
    }
   ],
   "source": [
    "dfOffence_Weighted_Average= pd.merge(dfQB,dfWR).merge(dfTE).merge(dfHB)\n",
    "dfOffence_Weighted_Average['Offence_Weighted_Average']=(dfOffence_Weighted_Average['Top Quaterback']*.4)+(dfOffence_Weighted_Average['Top Wide Receiver']*.2)+(dfOffence_Weighted_Average['Top Tight End']*.2)+(dfOffence_Weighted_Average['Top Half Back']*.2)\n",
    "dfOffence_Weighted_Average.sort_values('Offence_Weighted_Average', ascending=False)\n",
    "dfOffence_Weighted_Average.filter(['Team', 'Offence_Weighted_Average']).reset_index(drop=True)\n",
    "sns.barplot(data=dfOffence_Weighted_Average, x='Team', y='Offence_Weighted_Average')\n",
    "plt.ylim(ymin=70)\n",
    "sns.despine()"
   ]
  },
  {
   "cell_type": "markdown",
   "metadata": {},
   "source": [
    "## Reasearch #1 Conclusion ##\n",
    "---\n",
    "Analysis proved that the chiefs has the best offence in the league and the jaguars have the worst"
   ]
  },
  {
   "cell_type": "markdown",
   "metadata": {},
   "source": [
    "### Reasearch Question #2 ###\n",
    "## Which Team Has the Best Defense? ##\n",
    "---\n",
    "To answer this question we used the top player at each defensive position (middle linebacker, right outside linebacker, left outside linebacker, free safety, strong safety, corner back, defensive tackle, left defensive end and right defensive end). Each position was given and equal weighted except for corner back which recived double as this position has a larger effect on the teams overall defense since they run with the wide recievers"
   ]
  },
  {
   "cell_type": "code",
   "execution_count": 52,
   "metadata": {},
   "outputs": [],
   "source": [
    "#Max value for Each Corner Back\n",
    "    \n",
    "dfCB = sc.CornerBack_Score(df)\n"
   ]
  },
  {
   "cell_type": "code",
   "execution_count": 53,
   "metadata": {},
   "outputs": [],
   "source": [
    "#Max value for Each Right Outside Line Backer\n",
    "\n",
    "dfROLB = sc.RightOutsideLinebacker_Score(df)\n"
   ]
  },
  {
   "cell_type": "code",
   "execution_count": 54,
   "metadata": {},
   "outputs": [],
   "source": [
    " #Max value for Each Left Outside Line Backer\n",
    "    \n",
    "dfLOLB = sc.LeftOutsideLinebacker_Score(df)\n"
   ]
  },
  {
   "cell_type": "code",
   "execution_count": 55,
   "metadata": {},
   "outputs": [],
   "source": [
    "#Max value for Each Middle Line Backer\n",
    "    \n",
    "dfMLB = sc.MiddleLinebacker_Score(df)\n"
   ]
  },
  {
   "cell_type": "code",
   "execution_count": 56,
   "metadata": {},
   "outputs": [],
   "source": [
    "#Max value for Each Free Safty\n",
    "    \n",
    "dfFS = sc.FreeSafety_Score(df)\n"
   ]
  },
  {
   "cell_type": "code",
   "execution_count": 57,
   "metadata": {},
   "outputs": [],
   "source": [
    "#Max value for Each Strong Saftey\n",
    "    \n",
    "dfSS = sc.StrongSafety_Score(df)\n"
   ]
  },
  {
   "cell_type": "code",
   "execution_count": 58,
   "metadata": {},
   "outputs": [],
   "source": [
    "#Max value for Each Defensive Tackle\n",
    "    \n",
    "dfDT = sc.DefensiveTackle_Score(df)\n"
   ]
  },
  {
   "cell_type": "code",
   "execution_count": 59,
   "metadata": {},
   "outputs": [],
   "source": [
    "#Max value for Each Defensive Left end\n",
    "\n",
    "dfLE = sc.LeftEnd_Score(df)\n"
   ]
  },
  {
   "cell_type": "code",
   "execution_count": 60,
   "metadata": {},
   "outputs": [],
   "source": [
    "#Max value for Each Defensive right end\n",
    "    \n",
    "dfRE = sc.RightEnd_Score(df)\n"
   ]
  },
  {
   "cell_type": "code",
   "execution_count": 61,
   "metadata": {},
   "outputs": [
    {
     "data": {
      "image/png": "[encoded data removed]",
      "text/plain": [
       "<Figure size 432x288 with 1 Axes>"
      ]
     },
     "metadata": {
      "needs_background": "light"
     },
     "output_type": "display_data"
    }
   ],
   "source": [
    "dfDefense_Weighted_Average = pd.merge(dfCB,dfROLB).merge(dfLOLB).merge(dfSS).merge(dfFS).merge(dfMLB).merge(dfDT).merge(dfLE).merge(dfRE)\n",
    "dfDefense_Weighted_Average['Defense_Weighted_Average']=(dfDefense_Weighted_Average['Top Corner Back']*.2)+(dfDefense_Weighted_Average['Top Right Outside Linebacker']*.1)+(dfDefense_Weighted_Average['Top Left Outside Linebacker']*.1)+(dfDefense_Weighted_Average['Top Middle Linebacker']*.1)+(dfDefense_Weighted_Average['Top Free Safety']*.1)+(dfDefense_Weighted_Average['Top Strong Saftey']*.1)+(dfDefense_Weighted_Average['Top Defensive Tackle']*.1)+(dfDefense_Weighted_Average['Top Defensive Left End']*.1)+(dfDefense_Weighted_Average['Top Defensive Right End']*.1)\n",
    "dfDefense_Weighted_Average.filter(['Team', 'Defense_Weighted_Average']).sort_values('Defense_Weighted_Average', ascending=False).reset_index(drop=True)\n",
    "sns.barplot(data=dfDefense_Weighted_Average, x='Team', y='Defense_Weighted_Average')\n",
    "plt.ylim(ymin=70)\n",
    "sns.despine()"
   ]
  },
  {
   "cell_type": "markdown",
   "metadata": {},
   "source": [
    "## Reaseach Question #2 Conclusion ##\n",
    "---\n",
    "analysis proved the Bears have the best overal defense and the Panthers have the worst"
   ]
  },
  {
   "cell_type": "markdown",
   "metadata": {},
   "source": [
    "### Reaserch Question #3 ###\n",
    "## Which Team has the best Kicker/Punter? ##\n",
    "---\n",
    "To answer this question we used the best kicker and punter from each team and assigned the kicker a relively larger weighted average compared to the punter as the kicker is more valueable to a teams success"
   ]
  },
  {
   "cell_type": "code",
   "execution_count": 62,
   "metadata": {},
   "outputs": [],
   "source": [
    " #Max value for Each Kicker\n",
    "    \n",
    "dfK = sc.Kicker_Score(df)\n"
   ]
  },
  {
   "cell_type": "code",
   "execution_count": 63,
   "metadata": {},
   "outputs": [],
   "source": [
    " #Max value for Each Punter\n",
    "    \n",
    "dfP = sc.Punter_Score(df)"
   ]
  },
  {
   "cell_type": "code",
   "execution_count": 64,
   "metadata": {},
   "outputs": [
    {
     "data": {
      "image/png": "[encoded data removed]",
      "text/plain": [
       "<Figure size 432x288 with 1 Axes>"
      ]
     },
     "metadata": {
      "needs_background": "light"
     },
     "output_type": "display_data"
    }
   ],
   "source": [
    "dfKicker_Punter_Weighted_Average = pd.merge(dfK,dfP)\n",
    "dfKicker_Punter_Weighted_Average['Kicker_Punter_Weighted_Average']=(dfKicker_Punter_Weighted_Average['Top Punter']*.3)+(dfKicker_Punter_Weighted_Average['Top Kicker']*.7)\n",
    "dfKicker_Punter_Weighted_Average.filter(['Team', 'Kicker_Punter_Weighted_Average']).sort_values('Kicker_Punter_Weighted_Average', ascending=False).reset_index(drop=True)\n",
    "sns.barplot(data=dfKicker_Punter_Weighted_Average, x='Team', y='Kicker_Punter_Weighted_Average')\n",
    "plt.ylim(ymin=65)\n",
    "sns.despine()"
   ]
  },
  {
   "cell_type": "markdown",
   "metadata": {},
   "source": [
    "## Research Question 3 Conclusion ##\n",
    "---\n",
    "Analysis proved the Ravens have the best duo while the Falcons have the worst"
   ]
  },
  {
   "cell_type": "markdown",
   "metadata": {},
   "source": [
    "### Reaserch Question #4 ###\n",
    "## Which Team is the Best Overall? ##\n",
    "---\n",
    "To answer this question we used the weighted averages we created for Offence, Defense and Kicker/Punter. We gave Offence and Defense the Majoity of the weight and Kicker/Punter only 10% of the total weight as Offence and Defense is more valueable to win games"
   ]
  },
  {
   "cell_type": "code",
   "execution_count": 65,
   "metadata": {},
   "outputs": [
    {
     "data": {
      "image/png": "[encoded data removed]",
      "text/plain": [
       "<Figure size 432x288 with 1 Axes>"
      ]
     },
     "metadata": {
      "needs_background": "light"
     },
     "output_type": "display_data"
    }
   ],
   "source": [
    "dfTeam_Overall = pd.merge(dfOffence_Weighted_Average,dfDefense_Weighted_Average).merge(dfKicker_Punter_Weighted_Average)\n",
    "dfTeam_Overall['Team_Overall']= (dfTeam_Overall['Offence_Weighted_Average']*.45)+(dfTeam_Overall['Defense_Weighted_Average']*.45)+(dfTeam_Overall['Kicker_Punter_Weighted_Average']*.1)\n",
    "dfTeam_Overall.filter(['Team','Team_Overall']).sort_values('Team_Overall', ascending=False).reset_index(drop=True)\n",
    "sns.barplot(data=dfTeam_Overall, x='Team', y='Team_Overall')\n",
    "plt.ylim(ymin=70)\n",
    "sns.despine()"
   ]
  },
  {
   "cell_type": "markdown",
   "metadata": {},
   "source": [
    "## Reasearch Question #4 Conculsion ##\n",
    "---\n",
    "Analysis proved that the Saints are statistically the best team in the game while the Jets are the Worst"
   ]
  },
  {
   "cell_type": "code",
   "execution_count": null,
   "metadata": {},
   "outputs": [],
   "source": []
  },
  {
   "cell_type": "code",
   "execution_count": null,
   "metadata": {},
   "outputs": [],
   "source": []
  }
 ],
 "metadata": {
  "kernelspec": {
   "display_name": "Python 3",
   "language": "python",
   "name": "python3"
  },
  "language_info": {
   "codemirror_mode": {
    "name": "ipython",
    "version": 3
   },
   "file_extension": ".py",
   "mimetype": "text/x-python",
   "name": "python",
   "nbconvert_exporter": "python",
   "pygments_lexer": "ipython3",
   "version": "3.8.3"
  }
 },
 "nbformat": 4,
 "nbformat_minor": 4
}
